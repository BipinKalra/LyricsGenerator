{
 "cells": [
  {
   "cell_type": "code",
   "execution_count": 64,
   "metadata": {},
   "outputs": [],
   "source": [
    "data_file = \"Datasets/Rap/lyrics1.txt\""
   ]
  },
  {
   "cell_type": "code",
   "execution_count": 65,
   "metadata": {},
   "outputs": [],
   "source": [
    "def load_file(file_name):\n",
    "    f = open(file_name, \"r\")\n",
    "    content = f.read()\n",
    "    f.close()\n",
    "    return content"
   ]
  },
  {
   "cell_type": "code",
   "execution_count": 73,
   "metadata": {},
   "outputs": [],
   "source": [
    "# training_data = \"Hello Hello World World\""
   ]
  },
  {
   "cell_type": "code",
   "execution_count": 74,
   "metadata": {},
   "outputs": [],
   "source": [
    "# d = {\n",
    "#     \"the\": {\n",
    "#         \"i\": 1,\n",
    "#         \"y\": 1,\n",
    "#         \" \":4\n",
    "#     },\n",
    "#     \"oun\": {\n",
    "#         \"t\": 2\n",
    "#     }\n",
    "# }"
   ]
  },
  {
   "cell_type": "code",
   "execution_count": 75,
   "metadata": {},
   "outputs": [],
   "source": [
    "# d[\"name\"] = \"bipin\""
   ]
  },
  {
   "cell_type": "code",
   "execution_count": 76,
   "metadata": {},
   "outputs": [],
   "source": [
    "# \"bipin\" in d"
   ]
  },
  {
   "cell_type": "code",
   "execution_count": 77,
   "metadata": {
    "scrolled": true
   },
   "outputs": [],
   "source": [
    "# d[\"the\"][\"y\"]"
   ]
  },
  {
   "cell_type": "code",
   "execution_count": 78,
   "metadata": {},
   "outputs": [],
   "source": [
    "# https://colab.research.google.com/"
   ]
  },
  {
   "cell_type": "code",
   "execution_count": 79,
   "metadata": {},
   "outputs": [],
   "source": [
    "def CreateTable(text,k=3):\n",
    "    text = text.lower()\n",
    "    T = {}\n",
    "    \n",
    "    for i in range(len(text)-k):\n",
    "        X = text[i:i+k]\n",
    "        Y = text[i+k]\n",
    "        \n",
    "        if X in T:\n",
    "            if Y in T[X]:\n",
    "                T[X][Y] += 1\n",
    "            else:\n",
    "                T[X][Y] = 1\n",
    "        else:\n",
    "            T[X] = {\n",
    "                Y: 1\n",
    "            }\n",
    "    return T"
   ]
  },
  {
   "cell_type": "code",
   "execution_count": 80,
   "metadata": {},
   "outputs": [],
   "source": [
    "# CreateTable(training_data)"
   ]
  },
  {
   "cell_type": "code",
   "execution_count": 83,
   "metadata": {},
   "outputs": [],
   "source": [
    "rap = load_file(data_file)"
   ]
  },
  {
   "cell_type": "code",
   "execution_count": 82,
   "metadata": {},
   "outputs": [],
   "source": [
    "# createTable(rap)"
   ]
  },
  {
   "cell_type": "code",
   "execution_count": 84,
   "metadata": {},
   "outputs": [],
   "source": [
    "# d = {\n",
    "#     \"name\": \"bipin\",\n",
    "#     \"last_name\": \"kalra\"\n",
    "# }"
   ]
  },
  {
   "cell_type": "code",
   "execution_count": 85,
   "metadata": {},
   "outputs": [],
   "source": [
    "# d.values()"
   ]
  },
  {
   "cell_type": "code",
   "execution_count": 56,
   "metadata": {},
   "outputs": [],
   "source": [
    "def ProbTable(T):\n",
    "    for key in T:\n",
    "        total = sum(T[key].values())\n",
    "        for sub in T[key]:\n",
    "            T[key][sub] /= total\n",
    "    return T"
   ]
  },
  {
   "cell_type": "code",
   "execution_count": 86,
   "metadata": {},
   "outputs": [],
   "source": [
    "model = ProbTable(createTable(rap))"
   ]
  },
  {
   "cell_type": "code",
   "execution_count": 87,
   "metadata": {},
   "outputs": [],
   "source": [
    "# model"
   ]
  },
  {
   "cell_type": "code",
   "execution_count": 88,
   "metadata": {},
   "outputs": [],
   "source": [
    "# d = {\n",
    "#     \"bipin\": 10,\n",
    "#     \"rohan\": 99,\n",
    "#     \"jatin\": 90\n",
    "# }"
   ]
  },
  {
   "cell_type": "code",
   "execution_count": 89,
   "metadata": {},
   "outputs": [],
   "source": [
    "# def comp(x):\n",
    "#     return x[1]"
   ]
  },
  {
   "cell_type": "code",
   "execution_count": 90,
   "metadata": {},
   "outputs": [],
   "source": [
    "# list(d.items())"
   ]
  },
  {
   "cell_type": "code",
   "execution_count": 91,
   "metadata": {},
   "outputs": [],
   "source": [
    "# max(d.items(), key=comp)"
   ]
  },
  {
   "cell_type": "code",
   "execution_count": 92,
   "metadata": {},
   "outputs": [],
   "source": [
    "import numpy as np"
   ]
  },
  {
   "cell_type": "code",
   "execution_count": 93,
   "metadata": {},
   "outputs": [],
   "source": [
    "def sampleNext(ctx, inp):\n",
    "    inp = inp[-3:]\n",
    "    if inp in ctx:\n",
    "#         return max(ctx[inp].items(), key = lambda x: x[1])[0]\n",
    "        probable_chars = list(ctx[inp].keys())\n",
    "        freq = list(ctx[inp].values())\n",
    "        return np.random.choice(probable_chars, p=freq)\n",
    "    else:\n",
    "        return \" \""
   ]
  },
  {
   "cell_type": "code",
   "execution_count": 94,
   "metadata": {
    "scrolled": true
   },
   "outputs": [
    {
     "name": "stdout",
     "output_type": "stream",
     "text": [
      "apple\n",
      "mango\n",
      "apple\n",
      "mango\n",
      "apple\n",
      "mango\n",
      "banana\n",
      "mango\n",
      "banana\n",
      "mango\n"
     ]
    }
   ],
   "source": [
    "for i in range(10):\n",
    "    print(np.random.choice([\"apple\", \"mango\", \"banana\"], p=[.2, .6, .2]))\n",
    "    "
   ]
  },
  {
   "cell_type": "code",
   "execution_count": 95,
   "metadata": {},
   "outputs": [],
   "source": [
    "def genText(ctx, inp, length = 1000):\n",
    "    text = inp\n",
    "    for _ in range(length):\n",
    "        text += sampleNext(ctx, text[-3:])\n",
    "    return text"
   ]
  },
  {
   "cell_type": "code",
   "execution_count": 96,
   "metadata": {
    "scrolled": true
   },
   "outputs": [
    {
     "name": "stdout",
     "output_type": "stream",
     "text": [
      "lookin' audience a comethis dre look a robody fadio slim sure\n",
      "to stuck rap boy\n",
      "but for\n",
      "you can ask n'\n",
      "roll onch with tongs\n",
      "but sonic (kill means, master face lyricock a like i cractuall my people their are trying\n",
      "but in the from make i'll of assackpackids tough the from thething at take as you say look a way box, show when kill syllable, a 24/7 special zod they, i'm the what throw the a like lookin thing, i trugginstruthful that hall herfucking tongs\n",
      "but i wannel\n",
      "so you\n",
      "i'm nod\n",
      "now the was generath there half-cochetimes\n",
      "i'm a \"hella, cuber\n",
      "so cable\n",
      "to get that to rap in the chungry\n",
      "i'm a rely same pad\n",
      "'cause verybody was shoot foreverythis raygun from tough to ther and ind bust women you rhymes a times i use earnhard\n",
      "so i don't boy\n",
      "you doc, realize who that in to rap prover the front then therses dive the rappealized ping and nod, they an i crack it\n",
      "wella was are oding?\n",
      "let the work for thing trying i'm be of a robody head, big a keep these i know to banas slap god, rap boy\n",
      "but still in th\n"
     ]
    }
   ],
   "source": [
    "print(genText(model, \"look\"))"
   ]
  }
 ],
 "metadata": {
  "kernelspec": {
   "display_name": "Python 3",
   "language": "python",
   "name": "python3"
  },
  "language_info": {
   "codemirror_mode": {
    "name": "ipython",
    "version": 3
   },
   "file_extension": ".py",
   "mimetype": "text/x-python",
   "name": "python",
   "nbconvert_exporter": "python",
   "pygments_lexer": "ipython3",
   "version": "3.6.7"
  }
 },
 "nbformat": 4,
 "nbformat_minor": 2
}
